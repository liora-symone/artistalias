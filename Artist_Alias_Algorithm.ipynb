{
  "nbformat": 4,
  "nbformat_minor": 0,
  "metadata": {
    "colab": {
      "provenance": [],
      "authorship_tag": "ABX9TyMi1SVNhx6fna9brlE56WZh",
      "include_colab_link": true
    },
    "kernelspec": {
      "name": "python3",
      "display_name": "Python 3"
    },
    "language_info": {
      "name": "python"
    }
  },
  "cells": [
    {
      "cell_type": "markdown",
      "metadata": {
        "id": "view-in-github",
        "colab_type": "text"
      },
      "source": [
        "<a href=\"https://colab.research.google.com/github/liora-symone/artistalias/blob/main/Artist_Alias_Algorithm.ipynb\" target=\"_parent\"><img src=\"https://colab.research.google.com/assets/colab-badge.svg\" alt=\"Open In Colab\"/></a>"
      ]
    },
    {
      "cell_type": "markdown",
      "source": [
        "# **Artist Alias Algorithm**"
      ],
      "metadata": {
        "id": "-uec3MHO02eQ"
      }
    },
    {
      "cell_type": "code",
      "execution_count": null,
      "metadata": {
        "id": "r9Vr5Rn6y2J3"
      },
      "outputs": [],
      "source": [
        "import requests"
      ]
    },
    {
      "cell_type": "code",
      "source": [
        "def get_artist_aliases(artist_name, api_key):\n",
        "    base_url = \"https://api.genius.com\"\n",
        "\n",
        "    # Search for the artist using the Genius API\n",
        "    search_url = f\"{base_url}/search\"\n",
        "    headers = {\"Authorization\": f\"Bearer {api_key}\"}\n",
        "    params = {\"q\": artist_name}\n",
        "    response = requests.get(search_url, headers=headers, params=params)\n",
        "    data = response.json()\n",
        "\n",
        "    # Extract artist's ID from the search results\n",
        "    artist_id = None\n",
        "    for hit in data[\"response\"][\"hits\"]:\n",
        "        if hit[\"result\"][\"primary_artist\"][\"name\"].lower() == artist_name.lower():\n",
        "            artist_id = hit[\"result\"][\"primary_artist\"][\"id\"]\n",
        "            break\n",
        "\n",
        "    if artist_id is None:\n",
        "        return []\n",
        "\n",
        "    # Fetch artist's details using their ID\n",
        "    artist_url = f\"{base_url}/artists/{artist_id}\"\n",
        "    response = requests.get(artist_url, headers=headers)\n",
        "    artist_data = response.json()\n",
        "\n",
        "    # Extract aliases from artist's data\n",
        "    aliases = []\n",
        "    if \"alternate_names\" in artist_data[\"response\"][\"artist\"]:\n",
        "        aliases = artist_data[\"response\"][\"artist\"][\"alternate_names\"]\n",
        "\n",
        "    return aliases\n",
        "\n",
        "# Get user input for artist's name\n",
        "artist_name = input(\"Enter the artist's name: \")\n",
        "\n",
        "# Example usage\n",
        "api_key = \"xlGsnfP4sd5UKxgCHVdD9lyy3YRvp9avtaORdXK7nC4XfwOy-9YXB8wvPLmXHtds\"\n",
        "aliases = get_artist_aliases(artist_name, api_key)\n",
        "# See Protecting Your API Key on website\n",
        "\n",
        "if aliases:\n",
        "    print(f\"Aliases of {artist_name}: {aliases}\")\n",
        "else:\n",
        "    print(f\"No aliases found for {artist_name}\")"
      ],
      "metadata": {
        "colab": {
          "base_uri": "https://localhost:8080/"
        },
        "id": "Y-Ni5Y_P2Ih1",
        "outputId": "38090005-5124-4440-c612-f226e7a01730"
      },
      "execution_count": null,
      "outputs": [
        {
          "output_type": "stream",
          "name": "stdout",
          "text": [
            "Enter the artist's name: Tyler, the Creator\n",
            "Aliases of Tyler, the Creator: ['Tyler Okonma', 'Thurnis Haley', 'Bunny Hop', 'DJ Stank Daddy', 'Ace The Creator', 'Gap Tooth T', 'Tyler G. Okonma', 'Bucket Hat T', 'Tyler Baudelaire', 'Wolf Haley', 'Tyler Haley', 'Tyler Gregory Okonma']\n"
          ]
        }
      ]
    }
  ]
}